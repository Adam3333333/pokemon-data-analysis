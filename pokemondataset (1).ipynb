{
 "cells": [
  {
   "cell_type": "code",
   "execution_count": 2,
   "id": "25ddd578-fba9-45bd-bb07-673161c0169f",
   "metadata": {},
   "outputs": [
    {
     "name": "stdout",
     "output_type": "stream",
     "text": [
      "Requirement already satisfied: pandas in c:\\users\\adzsh\\anaconda3\\lib\\site-packages (2.2.2)Note: you may need to restart the kernel to use updated packages.\n",
      "\n",
      "Requirement already satisfied: numpy>=1.26.0 in c:\\users\\adzsh\\anaconda3\\lib\\site-packages (from pandas) (1.26.4)\n",
      "Requirement already satisfied: python-dateutil>=2.8.2 in c:\\users\\adzsh\\anaconda3\\lib\\site-packages (from pandas) (2.9.0.post0)\n",
      "Requirement already satisfied: pytz>=2020.1 in c:\\users\\adzsh\\anaconda3\\lib\\site-packages (from pandas) (2024.1)\n",
      "Requirement already satisfied: tzdata>=2022.7 in c:\\users\\adzsh\\anaconda3\\lib\\site-packages (from pandas) (2023.3)\n",
      "Requirement already satisfied: six>=1.5 in c:\\users\\adzsh\\anaconda3\\lib\\site-packages (from python-dateutil>=2.8.2->pandas) (1.16.0)\n"
     ]
    }
   ],
   "source": [
    "pip install pandas"
   ]
  },
  {
   "cell_type": "code",
   "execution_count": 15,
   "id": "08413d8b-5690-4b6d-a6a8-092b5e3828a7",
   "metadata": {},
   "outputs": [],
   "source": [
    "import pandas as pd "
   ]
  },
  {
   "cell_type": "code",
   "execution_count": 23,
   "id": "dadabb76-a133-4e42-a35d-0a7c2f5423c1",
   "metadata": {},
   "outputs": [
    {
     "name": "stdout",
     "output_type": "stream",
     "text": [
      "   #       Name Type 1  Type 2  HP  Attack  Defense  Sp. Atk  Sp. Def  Speed  \\\n",
      "0  1  Bulbasaur  Grass  Poison  45      49       49       65       65     45   \n",
      "1  2    Ivysaur  Grass  Poison  60      62       63       80       80     60   \n",
      "2  3   Venusaur  Grass  Poison  80      82       83      100      100     80   \n",
      "\n",
      "   Generation  Legendary  \n",
      "0           1      False  \n",
      "1           1      False  \n",
      "2           1      False  \n"
     ]
    }
   ],
   "source": [
    "import pandas as pd\n",
    "df = pd.read_csv(r'C:\\Users\\adzsh\\OneDrive\\Documents\\pokemon_data.csv')\n",
    "print(df.head(3))\n"
   ]
  },
  {
   "cell_type": "code",
   "execution_count": 25,
   "id": "8e047b26-1d20-432b-9635-ca882fc9c4de",
   "metadata": {},
   "outputs": [
    {
     "name": "stdout",
     "output_type": "stream",
     "text": [
      "<class 'pandas.core.frame.DataFrame'>\n",
      "RangeIndex: 800 entries, 0 to 799\n",
      "Data columns (total 12 columns):\n",
      " #   Column      Non-Null Count  Dtype \n",
      "---  ------      --------------  ----- \n",
      " 0   #           800 non-null    int64 \n",
      " 1   Name        800 non-null    object\n",
      " 2   Type 1      800 non-null    object\n",
      " 3   Type 2      414 non-null    object\n",
      " 4   HP          800 non-null    int64 \n",
      " 5   Attack      800 non-null    int64 \n",
      " 6   Defense     800 non-null    int64 \n",
      " 7   Sp. Atk     800 non-null    int64 \n",
      " 8   Sp. Def     800 non-null    int64 \n",
      " 9   Speed       800 non-null    int64 \n",
      " 10  Generation  800 non-null    int64 \n",
      " 11  Legendary   800 non-null    bool  \n",
      "dtypes: bool(1), int64(8), object(3)\n",
      "memory usage: 69.7+ KB\n",
      "None\n",
      "                #          HP      Attack     Defense     Sp. Atk     Sp. Def  \\\n",
      "count  800.000000  800.000000  800.000000  800.000000  800.000000  800.000000   \n",
      "mean   362.813750   69.258750   79.001250   73.842500   72.820000   71.902500   \n",
      "std    208.343798   25.534669   32.457366   31.183501   32.722294   27.828916   \n",
      "min      1.000000    1.000000    5.000000    5.000000   10.000000   20.000000   \n",
      "25%    184.750000   50.000000   55.000000   50.000000   49.750000   50.000000   \n",
      "50%    364.500000   65.000000   75.000000   70.000000   65.000000   70.000000   \n",
      "75%    539.250000   80.000000  100.000000   90.000000   95.000000   90.000000   \n",
      "max    721.000000  255.000000  190.000000  230.000000  194.000000  230.000000   \n",
      "\n",
      "            Speed  Generation  \n",
      "count  800.000000   800.00000  \n",
      "mean    68.277500     3.32375  \n",
      "std     29.060474     1.66129  \n",
      "min      5.000000     1.00000  \n",
      "25%     45.000000     2.00000  \n",
      "50%     65.000000     3.00000  \n",
      "75%     90.000000     5.00000  \n",
      "max    180.000000     6.00000  \n"
     ]
    }
   ],
   "source": [
    "print(df.info())     # See columns, datatypes, non-null counts\n",
    "print(df.describe()) # See summary statistics\n"
   ]
  },
  {
   "cell_type": "code",
   "execution_count": 27,
   "id": "09bf9d4e-377d-401c-92eb-56a3cf42f477",
   "metadata": {},
   "outputs": [
    {
     "name": "stdout",
     "output_type": "stream",
     "text": [
      "                    Name Type 1  HP\n",
      "0              Bulbasaur  Grass  45\n",
      "1                Ivysaur  Grass  60\n",
      "2               Venusaur  Grass  80\n",
      "3  VenusaurMega Venusaur  Grass  80\n",
      "4             Charmander   Fire  39\n"
     ]
    }
   ],
   "source": [
    "print(df[['Name', 'Type 1', 'HP']].head())\n"
   ]
  },
  {
   "cell_type": "code",
   "execution_count": 29,
   "id": "21f5dcf5-5ff7-4e5a-bcf8-4b8ecd5de806",
   "metadata": {},
   "outputs": [
    {
     "name": "stdout",
     "output_type": "stream",
     "text": [
      "   #       Name Type 1  Type 2  HP  Attack  Defense  Sp. Atk  Sp. Def  Speed  \\\n",
      "0  1  Bulbasaur  Grass  Poison  45      49       49       65       65     45   \n",
      "1  2    Ivysaur  Grass  Poison  60      62       63       80       80     60   \n",
      "2  3   Venusaur  Grass  Poison  80      82       83      100      100     80   \n",
      "\n",
      "   Generation  Legendary  Total  \n",
      "0           1      False    318  \n",
      "1           1      False    405  \n",
      "2           1      False    525  \n"
     ]
    }
   ],
   "source": [
    "df['Total'] = df['HP'] + df['Attack'] + df['Defense'] + df['Sp. Atk'] + df['Sp. Def'] + df['Speed']\n",
    "print(df.head(3))\n"
   ]
  },
  {
   "cell_type": "code",
   "execution_count": 31,
   "id": "82595590-c7fe-40f2-b111-64f835c9e5e6",
   "metadata": {},
   "outputs": [
    {
     "name": "stdout",
     "output_type": "stream",
     "text": [
      "                        Name  Total\n",
      "426    RayquazaMega Rayquaza    780\n",
      "164      MewtwoMega Mewtwo Y    780\n",
      "163      MewtwoMega Mewtwo X    780\n",
      "422      KyogrePrimal Kyogre    770\n",
      "424    GroudonPrimal Groudon    770\n",
      "552                   Arceus    720\n",
      "712       KyuremWhite Kyurem    700\n",
      "711       KyuremBlack Kyurem    700\n",
      "409  SalamenceMega Salamence    700\n",
      "413  MetagrossMega Metagross    700\n"
     ]
    }
   ],
   "source": [
    "df_sorted = df.sort_values(by='Total', ascending=False)\n",
    "print(df_sorted[['Name', 'Total']].head(10))\n"
   ]
  },
  {
   "cell_type": "code",
   "execution_count": 33,
   "id": "99fbcee6-4453-4ad3-93ae-cf83eeffdde9",
   "metadata": {},
   "outputs": [
    {
     "name": "stdout",
     "output_type": "stream",
     "text": [
      "                 Name   HP\n",
      "44         Jigglypuff  115\n",
      "45         Wigglytuff  140\n",
      "96                Muk  105\n",
      "120            Rhydon  105\n",
      "121           Chansey  250\n",
      "..                ...  ...\n",
      "753        Aromatisse  101\n",
      "769           Aurorus  123\n",
      "792           Xerneas  126\n",
      "793           Yveltal  126\n",
      "794  Zygarde50% Forme  108\n",
      "\n",
      "[67 rows x 2 columns]\n"
     ]
    }
   ],
   "source": [
    "high_hp = df[df['HP'] > 100]\n",
    "print(high_hp[['Name', 'HP']])\n"
   ]
  },
  {
   "cell_type": "code",
   "execution_count": 35,
   "id": "26789a5d-ca0a-4637-a7da-98543fea92cf",
   "metadata": {},
   "outputs": [],
   "source": [
    "df.to_csv(r'C:\\Users\\adzsh\\OneDrive\\Documents\\pokemon_data_modified.csv', index=False)\n"
   ]
  },
  {
   "cell_type": "code",
   "execution_count": null,
   "id": "297c7331-7523-4622-9caf-f488fa82169b",
   "metadata": {},
   "outputs": [],
   "source": []
  }
 ],
 "metadata": {
  "kernelspec": {
   "display_name": "Python [conda env:base] *",
   "language": "python",
   "name": "conda-base-py"
  },
  "language_info": {
   "codemirror_mode": {
    "name": "ipython",
    "version": 3
   },
   "file_extension": ".py",
   "mimetype": "text/x-python",
   "name": "python",
   "nbconvert_exporter": "python",
   "pygments_lexer": "ipython3",
   "version": "3.12.7"
  }
 },
 "nbformat": 4,
 "nbformat_minor": 5
}
